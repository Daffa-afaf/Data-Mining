{
  "nbformat": 4,
  "nbformat_minor": 0,
  "metadata": {
    "colab": {
      "provenance": [],
      "toc_visible": true,
      "authorship_tag": "ABX9TyPskoiBfRF7BGgcmsU4dZYO",
      "include_colab_link": true
    },
    "kernelspec": {
      "name": "python3",
      "display_name": "Python 3"
    },
    "language_info": {
      "name": "python"
    }
  },
  "cells": [
    {
      "cell_type": "markdown",
      "metadata": {
        "id": "view-in-github",
        "colab_type": "text"
      },
      "source": [
        "<a href=\"https://colab.research.google.com/github/Daffa-afaf/Data-Mining/blob/main/Preprocessing.ipynb\" target=\"_parent\"><img src=\"https://colab.research.google.com/assets/colab-badge.svg\" alt=\"Open In Colab\"/></a>"
      ]
    },
    {
      "cell_type": "code",
      "execution_count": 12,
      "metadata": {
        "id": "694AqltHv4nA"
      },
      "outputs": [],
      "source": [
        "import numpy as np\n",
        "import pandas as pd\n",
        "import matplotlib.pyplot as plt"
      ]
    },
    {
      "cell_type": "code",
      "source": [
        "dataset = pd.read_csv('Datacoba.csv')\n",
        "x = dataset.iloc[:, :-1].values # ambil semua record kecuali terakhir\n",
        "y = dataset.iloc[:, -1].values # ambil kolom/record yang terakhir"
      ],
      "metadata": {
        "id": "wveh_MGU2MK5"
      },
      "execution_count": 13,
      "outputs": []
    },
    {
      "cell_type": "code",
      "source": [
        "print (x)"
      ],
      "metadata": {
        "colab": {
          "base_uri": "https://localhost:8080/"
        },
        "id": "Zk5FCHf63CuR",
        "outputId": "48046bfa-f1c8-4328-c8fe-0c064dd39831"
      },
      "execution_count": 14,
      "outputs": [
        {
          "output_type": "stream",
          "name": "stdout",
          "text": [
            "[['Budi' 1001 21.0 3.5]\n",
            " ['Susanti' 1002 22.0 3.1]\n",
            " ['Loren' 1003 20.0 3.8]\n",
            " ['Jarwo' 1004 nan 3.1]\n",
            " ['Adit' 1005 21.0 3.6]\n",
            " ['Upin' 1006 20.0 3.3]\n",
            " ['Ipin' 1007 20.0 nan]\n",
            " ['Ultraman' 1008 21.0 3.7]\n",
            " ['Gatot' 1009 21.0 3.0]\n",
            " ['Malik' 1010 20.0 3.4]]\n"
          ]
        }
      ]
    },
    {
      "cell_type": "code",
      "source": [
        "print (y)"
      ],
      "metadata": {
        "colab": {
          "base_uri": "https://localhost:8080/"
        },
        "id": "V4RCU5eO4-NB",
        "outputId": "d4364179-bf0e-4e31-a0cd-60a290373fb5"
      },
      "execution_count": 15,
      "outputs": [
        {
          "output_type": "stream",
          "name": "stdout",
          "text": [
            "['Yes' 'No' 'Yes' 'No' 'Yes' 'No' 'No' 'Yes' 'No' 'No']\n"
          ]
        }
      ]
    },
    {
      "cell_type": "code",
      "source": [
        "from sklearn.impute import SimpleImputer\n",
        "imputer = SimpleImputer(missing_values=np.nan, strategy='mean')\n",
        "imputer.fit(x[:, 1:4])\n",
        "x[:, 1:4] = imputer.transform(x[:, 1:4])"
      ],
      "metadata": {
        "id": "_BZ66l_z5Dxx"
      },
      "execution_count": 16,
      "outputs": []
    },
    {
      "cell_type": "code",
      "source": [
        "print (x)"
      ],
      "metadata": {
        "colab": {
          "base_uri": "https://localhost:8080/"
        },
        "id": "Fw61oH3T53q5",
        "outputId": "41300403-47c4-45de-96bc-cdd69e4b4651"
      },
      "execution_count": 17,
      "outputs": [
        {
          "output_type": "stream",
          "name": "stdout",
          "text": [
            "[['Budi' 1001.0 21.0 3.5]\n",
            " ['Susanti' 1002.0 22.0 3.1]\n",
            " ['Loren' 1003.0 20.0 3.8]\n",
            " ['Jarwo' 1004.0 20.666666666666668 3.1]\n",
            " ['Adit' 1005.0 21.0 3.6]\n",
            " ['Upin' 1006.0 20.0 3.3]\n",
            " ['Ipin' 1007.0 20.0 3.388888888888889]\n",
            " ['Ultraman' 1008.0 21.0 3.7]\n",
            " ['Gatot' 1009.0 21.0 3.0]\n",
            " ['Malik' 1010.0 20.0 3.4]]\n"
          ]
        }
      ]
    },
    {
      "cell_type": "code",
      "source": [
        "from sklearn.compose import ColumnTransformer\n",
        "from sklearn.preprocessing import OneHotEncoder\n",
        "ct = ColumnTransformer(transformers=[('encoder', OneHotEncoder(), [0])], remainder='passthrough')\n",
        "x = np.array(ct.fit_transform(x))"
      ],
      "metadata": {
        "id": "etSPugvW6ubg"
      },
      "execution_count": 18,
      "outputs": []
    },
    {
      "cell_type": "code",
      "source": [
        "print (x)"
      ],
      "metadata": {
        "colab": {
          "base_uri": "https://localhost:8080/"
        },
        "id": "FD24AifT7uzq",
        "outputId": "07179bbc-f2bf-4576-e914-8af43ac3a315"
      },
      "execution_count": 19,
      "outputs": [
        {
          "output_type": "stream",
          "name": "stdout",
          "text": [
            "[[0.0 1.0 0.0 0.0 0.0 0.0 0.0 0.0 0.0 0.0 1001.0 21.0 3.5]\n",
            " [0.0 0.0 0.0 0.0 0.0 0.0 0.0 1.0 0.0 0.0 1002.0 22.0 3.1]\n",
            " [0.0 0.0 0.0 0.0 0.0 1.0 0.0 0.0 0.0 0.0 1003.0 20.0 3.8]\n",
            " [0.0 0.0 0.0 0.0 1.0 0.0 0.0 0.0 0.0 0.0 1004.0 20.666666666666668 3.1]\n",
            " [1.0 0.0 0.0 0.0 0.0 0.0 0.0 0.0 0.0 0.0 1005.0 21.0 3.6]\n",
            " [0.0 0.0 0.0 0.0 0.0 0.0 0.0 0.0 0.0 1.0 1006.0 20.0 3.3]\n",
            " [0.0 0.0 0.0 1.0 0.0 0.0 0.0 0.0 0.0 0.0 1007.0 20.0 3.388888888888889]\n",
            " [0.0 0.0 0.0 0.0 0.0 0.0 0.0 0.0 1.0 0.0 1008.0 21.0 3.7]\n",
            " [0.0 0.0 1.0 0.0 0.0 0.0 0.0 0.0 0.0 0.0 1009.0 21.0 3.0]\n",
            " [0.0 0.0 0.0 0.0 0.0 0.0 1.0 0.0 0.0 0.0 1010.0 20.0 3.4]]\n"
          ]
        }
      ]
    },
    {
      "cell_type": "code",
      "source": [
        "from sklearn.preprocessing import LabelEncoder\n",
        "le = LabelEncoder()\n",
        "y = le.fit_transform(y)"
      ],
      "metadata": {
        "id": "HW1iqWlr8BzI"
      },
      "execution_count": 20,
      "outputs": []
    },
    {
      "cell_type": "code",
      "source": [
        "print (y)"
      ],
      "metadata": {
        "colab": {
          "base_uri": "https://localhost:8080/"
        },
        "id": "Hr6gUL4j8Svr",
        "outputId": "bfbc9bff-9912-4509-a080-30f5aade73b4"
      },
      "execution_count": 21,
      "outputs": [
        {
          "output_type": "stream",
          "name": "stdout",
          "text": [
            "[1 0 1 0 1 0 0 1 0 0]\n"
          ]
        }
      ]
    },
    {
      "cell_type": "code",
      "source": [
        "from sklearn.model_selection import train_test_split\n",
        "x_train, x_test, y_train, y_test = train_test_split(x,y, test_size=0.2, random_state=1)"
      ],
      "metadata": {
        "id": "nyVfA7XF9iJS"
      },
      "execution_count": 25,
      "outputs": []
    },
    {
      "cell_type": "code",
      "source": [
        "print (x_train)"
      ],
      "metadata": {
        "colab": {
          "base_uri": "https://localhost:8080/"
        },
        "id": "6HthncNd94yq",
        "outputId": "370cc306-5ba9-45e2-d568-b4dce0610514"
      },
      "execution_count": 26,
      "outputs": [
        {
          "output_type": "stream",
          "name": "stdout",
          "text": [
            "[[0.0 0.0 0.0 1.0 0.0 0.0 0.0 0.0 0.0 0.0 1007.0 20.0 3.388888888888889]\n",
            " [1.0 0.0 0.0 0.0 0.0 0.0 0.0 0.0 0.0 0.0 1005.0 21.0 3.6]\n",
            " [0.0 1.0 0.0 0.0 0.0 0.0 0.0 0.0 0.0 0.0 1001.0 21.0 3.5]\n",
            " [0.0 0.0 0.0 0.0 1.0 0.0 0.0 0.0 0.0 0.0 1004.0 20.666666666666668 3.1]\n",
            " [0.0 0.0 0.0 0.0 0.0 0.0 0.0 1.0 0.0 0.0 1002.0 22.0 3.1]\n",
            " [0.0 0.0 0.0 0.0 0.0 0.0 0.0 0.0 1.0 0.0 1008.0 21.0 3.7]\n",
            " [0.0 0.0 1.0 0.0 0.0 0.0 0.0 0.0 0.0 0.0 1009.0 21.0 3.0]\n",
            " [0.0 0.0 0.0 0.0 0.0 0.0 0.0 0.0 0.0 1.0 1006.0 20.0 3.3]]\n"
          ]
        }
      ]
    },
    {
      "cell_type": "code",
      "source": [
        "print (x_test)"
      ],
      "metadata": {
        "colab": {
          "base_uri": "https://localhost:8080/"
        },
        "id": "eEWyMCY6-LKZ",
        "outputId": "467d22fe-d769-46a2-b0d2-8aea3fc63e86"
      },
      "execution_count": 27,
      "outputs": [
        {
          "output_type": "stream",
          "name": "stdout",
          "text": [
            "[[0.0 0.0 0.0 0.0 0.0 1.0 0.0 0.0 0.0 0.0 1003.0 20.0 3.8]\n",
            " [0.0 0.0 0.0 0.0 0.0 0.0 1.0 0.0 0.0 0.0 1010.0 20.0 3.4]]\n"
          ]
        }
      ]
    },
    {
      "cell_type": "code",
      "source": [
        "print (y_train)"
      ],
      "metadata": {
        "colab": {
          "base_uri": "https://localhost:8080/"
        },
        "id": "wR3kBc0N-TNa",
        "outputId": "2db8c76c-b726-4d27-b9c8-d5bc36075112"
      },
      "execution_count": 28,
      "outputs": [
        {
          "output_type": "stream",
          "name": "stdout",
          "text": [
            "[0 1 1 0 0 1 0 0]\n"
          ]
        }
      ]
    },
    {
      "cell_type": "code",
      "source": [
        "print (y_test)"
      ],
      "metadata": {
        "colab": {
          "base_uri": "https://localhost:8080/"
        },
        "id": "hb5yOthh-YCq",
        "outputId": "a840b931-d923-4c5d-b828-2783bdbbf27b"
      },
      "execution_count": 29,
      "outputs": [
        {
          "output_type": "stream",
          "name": "stdout",
          "text": [
            "[1 0]\n"
          ]
        }
      ]
    },
    {
      "cell_type": "code",
      "source": [
        "from sklearn.preprocessing import StandardScaler\n",
        "sc = StandardScaler()\n",
        "x_train[:, 3:] = sc.fit_transform(x_train[:, 3:])\n",
        "x_test[:, 3:] = sc.transform(x_test[:, 3:])"
      ],
      "metadata": {
        "id": "NjDuKTfc-wza"
      },
      "execution_count": 31,
      "outputs": []
    },
    {
      "cell_type": "code",
      "source": [
        "print (x_train)"
      ],
      "metadata": {
        "colab": {
          "base_uri": "https://localhost:8080/"
        },
        "id": "xcdjcxXm_oGb",
        "outputId": "d33869ba-0b29-40de-c2cd-75bf541b0c0e"
      },
      "execution_count": 32,
      "outputs": [
        {
          "output_type": "stream",
          "name": "stdout",
          "text": [
            "[[0.0 0.0 0.0 2.6457513110645903 -0.3779644730092272 0.0 0.0\n",
            "  -0.3779644730092272 -0.3779644730092272 -0.3779644730092272\n",
            "  0.6644105970267493 -1.386750490563077 0.22070653588675807]\n",
            " [1.0 0.0 0.0 -0.3779644730092272 -0.3779644730092272 0.0 0.0\n",
            "  -0.3779644730092272 -0.3779644730092272 -0.3779644730092272\n",
            "  -0.0949157995752499 0.2773500981126107 1.103532679433794]\n",
            " [0.0 1.0 0.0 -0.3779644730092272 -0.3779644730092272 0.0 0.0\n",
            "  -0.3779644730092272 -0.3779644730092272 -0.3779644730092272\n",
            "  -1.6135685927792485 0.2773500981126107 0.6853518745957242]\n",
            " [0.0 0.0 0.0 -0.3779644730092272 2.6457513110645903 0.0 0.0\n",
            "  -0.3779644730092272 -0.3779644730092272 -0.3779644730092272\n",
            "  -0.4745789978762495 -0.27735009811261657 -0.9873713447565529]\n",
            " [0.0 0.0 0.0 -0.3779644730092272 -0.3779644730092272 0.0 0.0\n",
            "  2.6457513110645903 -0.3779644730092272 -0.3779644730092272\n",
            "  -1.2339053944782488 1.9414506867882984 -0.9873713447565529]\n",
            " [0.0 0.0 0.0 -0.3779644730092272 -0.3779644730092272 0.0 0.0\n",
            "  -0.3779644730092272 2.6457513110645903 -0.3779644730092272\n",
            "  1.044073795327749 0.2773500981126107 1.5217134842718638]\n",
            " [0.0 0.0 1.0 -0.3779644730092272 -0.3779644730092272 0.0 0.0\n",
            "  -0.3779644730092272 -0.3779644730092272 -0.3779644730092272\n",
            "  1.4237369936287485 0.2773500981126107 -1.4055521495946226]\n",
            " [0.0 0.0 0.0 -0.3779644730092272 -0.3779644730092272 0.0 0.0\n",
            "  -0.3779644730092272 -0.3779644730092272 2.6457513110645903\n",
            "  0.2847473987257497 -1.386750490563077 -0.15100973508041526]]\n"
          ]
        }
      ]
    },
    {
      "cell_type": "code",
      "source": [
        "print (x_test)"
      ],
      "metadata": {
        "colab": {
          "base_uri": "https://localhost:8080/"
        },
        "id": "rtX7CdNk_z5j",
        "outputId": "ae98a95e-8348-4ef9-e769-193ffb5ff14f"
      },
      "execution_count": 33,
      "outputs": [
        {
          "output_type": "stream",
          "name": "stdout",
          "text": [
            "[[0.0 0.0 0.0 -0.3779644730092272 -0.3779644730092272 1.0 0.0\n",
            "  -0.3779644730092272 -0.3779644730092272 -0.3779644730092272\n",
            "  -0.8542421961772492 -1.386750490563077 1.9398942891099316]\n",
            " [0.0 0.0 0.0 -0.3779644730092272 -0.3779644730092272 0.0 1.0\n",
            "  -0.3779644730092272 -0.3779644730092272 -0.3779644730092272\n",
            "  1.8034001919297482 -1.386750490563077 0.2671710697576545]]\n"
          ]
        }
      ]
    }
  ]
}